{
 "cells": [
  {
   "cell_type": "code",
   "execution_count": 13,
   "outputs": [],
   "source": [
    "import pandas as pd\n",
    "# from sklearn.linear_model import LinearRegression\n",
    "from scipy import stats\n",
    "\n",
    "stats_ex = pd.read_csv(r'.\\data\\Test_Doc_24h_Oil_Red_HuH7_Results.csv')\n",
    "proteinQuantData = pd.read_csv(r'.\\data\\ex_pierce660.csv')\n"
   ],
   "metadata": {
    "collapsed": false
   }
  },
  {
   "cell_type": "code",
   "execution_count": 14,
   "outputs": [
    {
     "name": "stdout",
     "output_type": "stream",
     "text": [
      "last row 8\n"
     ]
    }
   ],
   "source": [
    "curRow = 0\n",
    "dataRowsCount = 0\n",
    "while True:\n",
    "    if pd.isnull(stats_ex.loc[curRow, 'Concentration']):\n",
    "        dataRowsCount = curRow\n",
    "        break\n",
    "    else:\n",
    "        # print(\"in row %s\" % curRow)\n",
    "        curRow += 1\n",
    "\n",
    "print('last row %s' % dataRowsCount)"
   ],
   "metadata": {
    "collapsed": false
   }
  },
  {
   "cell_type": "code",
   "execution_count": 15,
   "outputs": [],
   "source": [
    "# data = stats_ex.iloc[dataRowsLastIndex].melt\n",
    "# data = stats_ex.head(dataRowsCount);\n",
    "# data"
   ],
   "metadata": {
    "collapsed": false
   }
  },
  {
   "cell_type": "code",
   "execution_count": 17,
   "outputs": [
    {
     "data": {
      "text/plain": "  Standard  Conc  Ave Stand  Stand 1  Stand 2  Stand 3\n0        I     0   0.000333    0.001    0.001   -0.001\n1        H    25   0.008000    0.008    0.008    0.008\n2        G   125   0.059667    0.058    0.060    0.061",
      "text/html": "<div>\n<style scoped>\n    .dataframe tbody tr th:only-of-type {\n        vertical-align: middle;\n    }\n\n    .dataframe tbody tr th {\n        vertical-align: top;\n    }\n\n    .dataframe thead th {\n        text-align: right;\n    }\n</style>\n<table border=\"1\" class=\"dataframe\">\n  <thead>\n    <tr style=\"text-align: right;\">\n      <th></th>\n      <th>Standard</th>\n      <th>Conc</th>\n      <th>Ave Stand</th>\n      <th>Stand 1</th>\n      <th>Stand 2</th>\n      <th>Stand 3</th>\n    </tr>\n  </thead>\n  <tbody>\n    <tr>\n      <th>0</th>\n      <td>I</td>\n      <td>0</td>\n      <td>0.000333</td>\n      <td>0.001</td>\n      <td>0.001</td>\n      <td>-0.001</td>\n    </tr>\n    <tr>\n      <th>1</th>\n      <td>H</td>\n      <td>25</td>\n      <td>0.008000</td>\n      <td>0.008</td>\n      <td>0.008</td>\n      <td>0.008</td>\n    </tr>\n    <tr>\n      <th>2</th>\n      <td>G</td>\n      <td>125</td>\n      <td>0.059667</td>\n      <td>0.058</td>\n      <td>0.060</td>\n      <td>0.061</td>\n    </tr>\n  </tbody>\n</table>\n</div>"
     },
     "execution_count": 17,
     "metadata": {},
     "output_type": "execute_result"
    }
   ],
   "source": [
    "proteinQuantData\n",
    "proteinQuantData[0:3]"
   ],
   "metadata": {
    "collapsed": false
   }
  },
  {
   "cell_type": "code",
   "execution_count": null,
   "outputs": [],
   "source": [
    "# proteinQuantData['average'] ="
   ],
   "metadata": {
    "collapsed": false
   }
  }
 ],
 "metadata": {
  "kernelspec": {
   "display_name": "Python 3",
   "language": "python",
   "name": "python3"
  },
  "language_info": {
   "codemirror_mode": {
    "name": "ipython",
    "version": 2
   },
   "file_extension": ".py",
   "mimetype": "text/x-python",
   "name": "python",
   "nbconvert_exporter": "python",
   "pygments_lexer": "ipython2",
   "version": "2.7.6"
  }
 },
 "nbformat": 4,
 "nbformat_minor": 0
}
