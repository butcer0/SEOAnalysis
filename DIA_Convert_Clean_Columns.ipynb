{
 "cells": [
  {
   "cell_type": "markdown",
   "source": [
    "##### DATA CLEANUP FOR DIA MASS SPEC TO PTM-SEA CONVERSION TOOL\n",
    "```\n",
    "Revision version: 1.0 - 11/30/22\n",
    "First version: 1.0 - 11/30/22\n",
    "\n",
    "Description: This code is used to clean the data from DIA Mass Spec Conversion tool\n",
    "------------------------------------\n",
    "Authors: Erik Butcher\n",
    "University of Washington School of Medicine\n",
    "Department of Pharmacology\n",
    "1956 NE Pacific St H362, Seattle, WA (98195)\n",
    "United States of America\n",
    "Website:\n",
    "------------------------------------\n",
    "Note: Please review instructions before use!\n",
    "------------------------------------\n",
    "```"
   ],
   "metadata": {
    "collapsed": false
   }
  },
  {
   "cell_type": "code",
   "execution_count": null,
   "outputs": [],
   "source": [
    "import math\n",
    "\n",
    "import pandas as pd"
   ],
   "metadata": {
    "collapsed": false
   }
  },
  {
   "cell_type": "code",
   "execution_count": null,
   "outputs": [],
   "source": [
    "file_name = r'<file path>'\n",
    "output_path = r'<output path>'"
   ],
   "metadata": {
    "collapsed": false
   }
  },
  {
   "cell_type": "code",
   "execution_count": null,
   "outputs": [],
   "source": [
    "data = pd.read_excel(file_name, skiprows=[0,1,3,4,5])\n",
    "data"
   ],
   "metadata": {
    "collapsed": false
   }
  },
  {
   "cell_type": "code",
   "execution_count": null,
   "outputs": [],
   "source": [
    "def negative_log_base_2_transform(n):\n",
    "    return -math.log2(n)"
   ],
   "metadata": {
    "collapsed": false
   }
  },
  {
   "cell_type": "code",
   "execution_count": null,
   "outputs": [],
   "source": [
    "log_base_2 = data['fdr.pvalue.p_value'].map(negative_log_base_2_transform)\n",
    "log_base_2"
   ],
   "metadata": {
    "collapsed": false
   }
  },
  {
   "cell_type": "code",
   "execution_count": null,
   "outputs": [],
   "source": [
    "def clean_name_and_ids(df):\n",
    "    pathway_ids = []\n",
    "    for name in df['id']:\n",
    "        name2 = name.split('-')[1]\n",
    "        if '_' in name2:\n",
    "            name2 = name2.split('_')[1:]\n",
    "            name2 = '_'.join(name2)\n",
    "            pathway_ids.append(name2)\n",
    "        else:\n",
    "            pathway_ids.append(name2)\n",
    "    return pathway_ids"
   ],
   "metadata": {
    "collapsed": false
   }
  },
  {
   "cell_type": "code",
   "execution_count": null,
   "outputs": [],
   "source": [
    "data[\"log_base_2\"] = log_base_2"
   ],
   "metadata": {
    "collapsed": false
   }
  },
  {
   "cell_type": "code",
   "execution_count": null,
   "outputs": [],
   "source": [
    "writer = pd.ExcelWriter(output_path, engine='xlsxwriter')\n",
    "data.to_excel(writer, sheet_name=\"generated_results\")\n",
    "writer.save()"
   ],
   "metadata": {
    "collapsed": false
   }
  }
 ],
 "metadata": {
  "kernelspec": {
   "display_name": "Python 3",
   "language": "python",
   "name": "python3"
  },
  "language_info": {
   "codemirror_mode": {
    "name": "ipython",
    "version": 2
   },
   "file_extension": ".py",
   "mimetype": "text/x-python",
   "name": "python",
   "nbconvert_exporter": "python",
   "pygments_lexer": "ipython2",
   "version": "2.7.6"
  }
 },
 "nbformat": 4,
 "nbformat_minor": 0
}
